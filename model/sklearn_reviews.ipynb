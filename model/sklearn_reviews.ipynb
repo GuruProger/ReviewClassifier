{
 "cells": [
  {
   "cell_type": "code",
   "source": [
    "import numpy as np\n",
    "import pandas as pd\n",
    "from tqdm import tqdm\n",
    "import pymorphy3\n",
    "\n",
    "# Инициализация необходимых объектов для обработки текста\n",
    "morph_analyzer = pymorphy3.MorphAnalyzer()\n",
    "    \n",
    "class CreateDataset:\n",
    "    def __init__(self):\n",
    "\n",
    "        self.practice = {'задача', 'кейс'}\n",
    "        self.theory = {'знания', 'лекция', 'материал'}\n",
    "        self.technology = {\n",
    "            'go', 'golang', 'java', 'javascript',\n",
    "            'kotlin', 'php', 'python', 'rust',\n",
    "            'typescript', 'c', 'pascal', 'flask', 'django', 'data', 'science', 'sql', 'html', 'css', 'json', 'js',\n",
    "            'typescript', 'matplotlib', 'pandas', 'seaborn', 'plotly', 'numpy', 'голанг', 'паскаль', 'джава',\n",
    "            'джаваскрипт', 'питон', 'пхп',\n",
    "            'си', 'джанго', 'фласк', 'ооп'}\n",
    "        self.teacher = {'лектор', 'учитель', 'профессор', 'наставник'}\n",
    "        self.relevance = {'полезный', 'современный', 'релевантный', 'новый', 'старый', 'устарел'}\n",
    "\n",
    "        # Список ключевых тем\n",
    "        self.topic_keywords = ['Практика', 'Теория', 'Преподаватель', 'Технологии', 'Актуальность']\n",
    "        self.topics = {keyword: {keyword.lower()} for keyword in\n",
    "                       self.topic_keywords}\n",
    "\n",
    "        # Обновление словаря ключевых тем с учетом различных форм\n",
    "        self.topics['Практика'].update(self.practice)\n",
    "        self.topics['Теория'].update(self.theory)\n",
    "        self.topics['Преподаватель'].update(self.teacher)\n",
    "        self.topics['Технологии'].update(self.technology)\n",
    "        self.topics['Актуальность'].update(self.relevance)\n",
    "\n",
    "    def names_in_text(self, text: str) -> bool:\n",
    "        \"\"\"\n",
    "        Функция для извлечения имен преподавателей из текста\n",
    "        :param text: Исходный текст\n",
    "        :return: True, если найдено хотя бы одно имя, иначе False\n",
    "        \"\"\"\n",
    "        stop_names = frozenset('паскаль')\n",
    "        for word in text:\n",
    "            if word not in stop_names:\n",
    "                parse = morph_analyzer.parse(word)[0]\n",
    "                tag = parse.tag\n",
    "                if ('Name' in tag or 'Surn' in tag) and parse.score >= 0.8:\n",
    "                    return True\n",
    "        return False\n",
    "\n",
    "    def automatic_annotation(self, df: pd.DataFrame) -> pd.DataFrame:\n",
    "        \"\"\"Автоматическая разметка обучающего набора данных\"\"\"\n",
    "        data_all = {topic: [] for topic in self.topic_keywords}\n",
    "        data_index = set()\n",
    "\n",
    "        for idx, row in tqdm(df.iterrows(), total=len(df)):\n",
    "            preprocessed_text = row['PreprocessedText']\n",
    "            data = []\n",
    "            for key, keywords in self.topics.items():\n",
    "                if any(True for keyword in keywords for word in preprocessed_text if fuzz.ratio(word, keyword) > 67):\n",
    "                    data_index.add(idx)\n",
    "                    data.append(1)\n",
    "                elif key == 'Преподаватель' and self.names_in_text(preprocessed_text):\n",
    "                    # Дополнительная проверка на имена\n",
    "                    data_index.add(idx)\n",
    "                    data.append(1)\n",
    "                else:\n",
    "                    # Если текст не относится к категории\n",
    "                    data.append(0)\n",
    "            if sum(data) > 0:\n",
    "                # idx,Практика,Теория,Преподаватель,Технологии,Актуальность\n",
    "                # {id: [], \n",
    "                for i, key in enumerate(self.topic_keywords):\n",
    "                    data_all[key].append(data[i])\n",
    "        return pd.DataFrame(data_all, index=sorted(data_index))"
   ],
   "metadata": {
    "collapsed": false,
    "jupyter": {
     "is_executing": true
    }
   },
   "id": "initial_id",
   "outputs": [],
   "execution_count": null
  },
  {
   "cell_type": "code",
   "source": [
    "import pandas as pd\n",
    "from thefuzz import fuzz  # Новая версия библиотеки fuzzywuzzy\n",
    "import nltk\n",
    "\n",
    "# Загрузка необходимых данных для NLTK\n",
    "nltk.download('stopwords')\n",
    "nltk.download('punkt')\n",
    "from nltk.corpus import stopwords\n",
    "from nltk.tokenize import word_tokenize\n",
    "\n",
    "# from utils import CreateDataset\n",
    "\n",
    "# Загрузка стоп-слов\n",
    "stop_words = stopwords.words('russian')\n",
    "\n",
    "# Загрузка данных\n",
    "df = pd.read_csv('train_reviews.csv', index_col=0)\n",
    "df['Reviews'] = df['Reviews'].astype(str)\n",
    "\n",
    "# Замена кириллической 'с' на латинскую\n",
    "df['Reviews'] = df['Reviews'].apply(\n",
    "    lambda x: x.replace('1с', '1c').replace('с#', 'c#').replace('с+', 'c+').replace('Ё', 'Е').replace(\n",
    "        '1С', '1C').replace('С#', 'C#').replace('С+', 'C+'))\n",
    "\n",
    "\n",
    "class TextProcessor:\n",
    "    def preprocess(self, text: str) -> list[str]:\n",
    "        \"\"\"\n",
    "        Предобрабатывает текст, токенизируя, лемматизируя и удаляя стоп-слова.\n",
    "\n",
    "        :param text: Входной текст, который необходимо предобработать.\n",
    "        :return: Список предобработанных слов.\n",
    "        \"\"\"\n",
    "        tokens = word_tokenize(text.lower())\n",
    "        filtered_tokens = [\n",
    "            normalized_word\n",
    "            for word in tokens\n",
    "            if (normalized_word := morph_analyzer.parse(self._remove_symbols(word))[0].normal_form) not in stop_words\n",
    "        ]\n",
    "\n",
    "        filtered_tokens = \" \".join(filtered_tokens).replace('ё', 'е').split()  # Удаление лишних пробелов\n",
    "        return filtered_tokens\n",
    "\n",
    "    @staticmethod\n",
    "    def _remove_symbols(text: str) -> str:\n",
    "        \"\"\"Удаляет все символы и цифры из строки.\"\"\"\n",
    "        clean_text = \"\".join(char if char.isalnum() and not char.isdigit() else \" \" for char in text)\n",
    "        return clean_text"
   ],
   "metadata": {
    "collapsed": false,
    "ExecuteTime": {
     "end_time": "2024-08-04T18:08:13.310843Z",
     "start_time": "2024-08-04T18:08:11.720530Z"
    }
   },
   "id": "c93d3d6963232734",
   "outputs": [
    {
     "name": "stderr",
     "output_type": "stream",
     "text": [
      "[nltk_data] Downloading package stopwords to /home/guru-\n",
      "[nltk_data]     proger/nltk_data...\n",
      "[nltk_data]   Package stopwords is already up-to-date!\n",
      "[nltk_data] Downloading package punkt to /home/guru-\n",
      "[nltk_data]     proger/nltk_data...\n",
      "[nltk_data]   Package punkt is already up-to-date!\n"
     ]
    }
   ],
   "execution_count": 2
  },
  {
   "metadata": {},
   "cell_type": "markdown",
   "source": "Обработка текста",
   "id": "3ea9f22233c9209"
  },
  {
   "metadata": {
    "ExecuteTime": {
     "end_time": "2024-08-04T18:08:47.651785Z",
     "start_time": "2024-08-04T18:08:13.313563Z"
    }
   },
   "cell_type": "code",
   "source": [
    "text_processor = TextProcessor()\n",
    "\n",
    "# Применение предобработки к отзывам\n",
    "df['PreprocessedText'] = df['Reviews'].apply(text_processor.preprocess)\n",
    "\n",
    "# Создание списка всех стеммированных слов\n",
    "all_words = [word for sublist in df['PreprocessedText'] for word in sublist]\n",
    "unique_words = pd.Series(all_words).value_counts()\n",
    "\n",
    "# Создание DataFrame с размеченными данными\n",
    "create_dataset = CreateDataset()\n",
    "df_dataset_index = create_dataset.automatic_annotation(df)"
   ],
   "id": "e40ce0cf9bd2c856",
   "outputs": [
    {
     "name": "stderr",
     "output_type": "stream",
     "text": [
      "100%|██████████| 4576/4576 [00:09<00:00, 481.22it/s]\n"
     ]
    }
   ],
   "execution_count": 3
  },
  {
   "metadata": {},
   "cell_type": "markdown",
   "source": "Просмотр размеченных текстов",
   "id": "f81027e581040957"
  },
  {
   "cell_type": "code",
   "source": [
    "import matplotlib.pyplot as plt\n",
    "\n",
    "print('Всего размеченных текстов -', len(df_dataset_index))\n",
    "for t in create_dataset.topic_keywords:\n",
    "    print(t, '-', len(df_dataset_index[df_dataset_index[t] == 1]))\n",
    "\n",
    "# Создание списков для тем и их количества\n",
    "topics = create_dataset.topic_keywords\n",
    "counts = [len(df_dataset_index[df_dataset_index[t] == 1]) for t in topics]\n",
    "\n",
    "# Визуализация\n",
    "plt.figure(figsize=(10, 6))\n",
    "plt.bar(topics, counts, color='skyblue')\n",
    "plt.xlabel('Темы')\n",
    "plt.ylabel('Количество размеченных текстов')\n",
    "plt.title('Количество размеченных текстов по темам')\n",
    "plt.xticks(rotation=45, ha=\"right\")\n",
    "plt.tight_layout()\n",
    "plt.show()\n"
   ],
   "metadata": {
    "collapsed": false,
    "ExecuteTime": {
     "end_time": "2024-08-04T18:08:48.454069Z",
     "start_time": "2024-08-04T18:08:47.653759Z"
    }
   },
   "id": "aeda3f20b86fc6a7",
   "outputs": [
    {
     "name": "stdout",
     "output_type": "stream",
     "text": [
      "Всего размеченных текстов - 2380\n",
      "Практика - 1072\n",
      "Теория - 1022\n",
      "Преподаватель - 781\n",
      "Технологии - 491\n",
      "Актуальность - 842\n"
     ]
    },
    {
     "data": {
      "text/plain": [
       "<Figure size 1000x600 with 1 Axes>"
      ],
      "image/png": "[encoded data removed]"
     },
     "metadata": {},
     "output_type": "display_data"
    }
   ],
   "execution_count": 4
  },
  {
   "metadata": {},
   "cell_type": "markdown",
   "source": "Размеченный и обработанный датасет",
   "id": "c03a95458618dbc4"
  },
  {
   "cell_type": "code",
   "source": [
    "df_new: pd.DataFrame = df.loc[df_dataset_index.index]\n",
    "for topic in create_dataset.topic_keywords:\n",
    "    df_new[topic] = df_dataset_index[topic]\n",
    "df_new['PreprocessedText'] = df_new['PreprocessedText'].apply(lambda x: \" \".join(x))"
   ],
   "metadata": {
    "collapsed": false,
    "ExecuteTime": {
     "end_time": "2024-08-04T18:08:48.466209Z",
     "start_time": "2024-08-04T18:08:48.455623Z"
    }
   },
   "id": "4a8167a8f531ce30",
   "outputs": [],
   "execution_count": 5
  },
  {
   "metadata": {},
   "cell_type": "markdown",
   "source": "Векторизация текста",
   "id": "933768d9fe67e0e6"
  },
  {
   "cell_type": "code",
   "source": [
    "import pandas as pd\n",
    "from sklearn.model_selection import train_test_split\n",
    "from sklearn.feature_extraction.text import TfidfVectorizer\n",
    "from sklearn.multioutput import MultiOutputClassifier\n",
    "from sklearn.tree import DecisionTreeClassifier\n",
    "from sklearn.metrics import classification_report, f1_score\n",
    "\n",
    "# Векторизация текста\n",
    "vectorizer = TfidfVectorizer()\n",
    "X_vectorized = vectorizer.fit_transform(df_new['PreprocessedText'])\n",
    "y = df_new.drop(['PreprocessedText', 'Reviews'], axis=1)\n",
    "# Разделим данные на обучающую и тестовую выборки\n",
    "X_train, X_test, y_train, y_test = train_test_split(X_vectorized, df_new[\n",
    "    ['Практика', 'Теория', 'Преподаватель', 'Технологии', 'Актуальность']], test_size=0.3, random_state=42)\n"
   ],
   "metadata": {
    "collapsed": false,
    "ExecuteTime": {
     "end_time": "2024-08-04T18:08:48.585240Z",
     "start_time": "2024-08-04T18:08:48.468453Z"
    }
   },
   "id": "5f88f6839a924151",
   "outputs": [],
   "execution_count": 6
  },
  {
   "metadata": {},
   "cell_type": "markdown",
   "source": "Обучение модели",
   "id": "3ef5a170d32633a7"
  },
  {
   "cell_type": "code",
   "source": [
    "# Используем многоцелевой классификатор\n",
    "model = MultiOutputClassifier(DecisionTreeClassifier())\n",
    "model.fit(X_train, y_train)\n",
    "\n",
    "# Прогнозируем на тестовых данных\n",
    "y_pred = model.predict(X_test)\n",
    "# Оценка модели\n",
    "print(classification_report(y_test, y_pred, target_names=y.columns, zero_division=0))\n",
    "print(model.score(X_test, y_test))\n",
    "print(f1_score(y_test, y_pred, average='macro'))"
   ],
   "metadata": {
    "collapsed": false,
    "ExecuteTime": {
     "end_time": "2024-08-04T18:08:49.623856Z",
     "start_time": "2024-08-04T18:08:48.586685Z"
    }
   },
   "id": "de4a685c5988f38b",
   "outputs": [
    {
     "name": "stdout",
     "output_type": "stream",
     "text": [
      "               precision    recall  f1-score   support\n",
      "\n",
      "     Практика       1.00      0.99      1.00       321\n",
      "       Теория       0.99      0.98      0.98       318\n",
      "Преподаватель       0.94      0.89      0.92       241\n",
      "   Технологии       0.83      0.75      0.79       158\n",
      " Актуальность       0.99      0.95      0.97       237\n",
      "\n",
      "    micro avg       0.97      0.93      0.95      1275\n",
      "    macro avg       0.95      0.91      0.93      1275\n",
      " weighted avg       0.96      0.93      0.95      1275\n",
      "  samples avg       0.94      0.94      0.93      1275\n",
      "\n",
      "0.8277310924369747\n",
      "0.931059441496864\n"
     ]
    }
   ],
   "execution_count": 7
  },
  {
   "metadata": {},
   "cell_type": "markdown",
   "source": "Проверка тестового текста",
   "id": "e4b1c156ce727c14"
  },
  {
   "cell_type": "code",
   "source": [
    "test_review = 'Спасибо всем! Мне очень понравилось обучение питону. Курс не устареет ещё очень долго)'\n",
    "test_review = (text_processor.preprocess(test_review))\n",
    "test_review = \" \".join(test_review)\n",
    "new_vector = vectorizer.transform(pd.Series(test_review))\n",
    "test_pred = model.predict(new_vector)\n",
    "for i, k in enumerate(create_dataset.topic_keywords):\n",
    "    print(k, ':', test_pred[0][i])"
   ],
   "metadata": {
    "collapsed": false,
    "ExecuteTime": {
     "end_time": "2024-08-04T18:08:49.640669Z",
     "start_time": "2024-08-04T18:08:49.625489Z"
    }
   },
   "id": "bcb4b962076ab4a2",
   "outputs": [
    {
     "name": "stdout",
     "output_type": "stream",
     "text": [
      "Практика : 0\n",
      "Теория : 0\n",
      "Преподаватель : 0\n",
      "Технологии : 1\n",
      "Актуальность : 1\n"
     ]
    }
   ],
   "execution_count": 8
  },
  {
   "metadata": {},
   "cell_type": "markdown",
   "source": "Cоздание ответатвет на тестовый файл",
   "id": "19eb89ad7a247bc6"
  },
  {
   "cell_type": "code",
   "source": [
    "df_test = pd.read_csv('test_reviews.csv', index_col=0)\n",
    "df_test['Reviews'] = df_test['Reviews'].astype(str)\n",
    "df_test['Pred'] = df_test['Reviews'].apply(lambda x: \" \".join(text_processor.preprocess(x)))\n",
    "test_vector = vectorizer.transform(df_test['Pred'])"
   ],
   "metadata": {
    "collapsed": false,
    "ExecuteTime": {
     "end_time": "2024-08-04T18:08:55.345403Z",
     "start_time": "2024-08-04T18:08:49.642336Z"
    }
   },
   "id": "f007ce9c39e4fbf9",
   "outputs": [],
   "execution_count": 9
  },
  {
   "cell_type": "code",
   "source": "test_predict = pd.DataFrame(model.predict(test_vector))",
   "metadata": {
    "collapsed": false,
    "ExecuteTime": {
     "end_time": "2024-08-04T18:08:55.355791Z",
     "start_time": "2024-08-04T18:08:55.346965Z"
    }
   },
   "id": "32dcd192a114e068",
   "outputs": [],
   "execution_count": 10
  },
  {
   "cell_type": "code",
   "source": [
    "for i, k in enumerate(create_dataset.topic_keywords):\n",
    "    df_test[k.lower()] = test_predict[i]\n",
    "answer = df_test.drop('Pred', axis=1)\n",
    "answer.to_csv('answer.csv')"
   ],
   "metadata": {
    "collapsed": false,
    "ExecuteTime": {
     "end_time": "2024-08-04T18:08:55.382008Z",
     "start_time": "2024-08-04T18:08:55.357168Z"
    }
   },
   "id": "3e80d6f86ebdbf5",
   "outputs": [],
   "execution_count": 11
  }
 ],
 "metadata": {
  "kernelspec": {
   "display_name": "Python 3",
   "language": "python",
   "name": "python3"
  },
  "language_info": {
   "codemirror_mode": {
    "name": "ipython",
    "version": 2
   },
   "file_extension": ".py",
   "mimetype": "text/x-python",
   "name": "python",
   "nbconvert_exporter": "python",
   "pygments_lexer": "ipython2",
   "version": "2.7.6"
  }
 },
 "nbformat": 4,
 "nbformat_minor": 5
}
